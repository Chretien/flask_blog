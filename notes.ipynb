{
 "cells": [
  {
   "cell_type": "markdown",
   "metadata": {},
   "source": [
    "# Flask Forms\n",
    "\n",
    "Flask has extensions that allow us to build forms much easier than having to code them from scratch using regex, etc.\n",
    "\n",
    "The most popular extension to create forms using Flask is WTForms"
   ]
  },
  {
   "cell_type": "markdown",
   "metadata": {},
   "source": [
    "First, we'd want to install the WTForms Module.\n",
    "\n",
    "`pip install flask_wtf`\n",
    "\n",
    "After this is completed, we can use the module within our project. Create a new file named forms.py\n",
    "\n",
    "The import goes as:\n",
    "\n",
    "`from flask_wtf import FlaskForm`\n",
    "\n",
    "## Creating a registration form requires us to create a class called `class RegistrationForm(FlaskForm)`\n",
    "\n",
    "Forms require certain fields, right? With Flask, you must import these capabilities. To create a username field within our RegistrationForm class, we must import that functionality from wtforms.\n",
    "\n",
    "`from wtforms import StringField`\n",
    "\n",
    "Now that StringField is imported, we utilize it to initialize it as a method. Below, we will begin coding the form. The first argument will be the name of the field, which in this case is 'Username'. The second method will be a validator (which is initialized as a list of arguments) - for example, a method that makes the field a required field, and another for minimum/maximum length. These methods will need to be imported as well through `from wtforms.validators import DataRequired, Length`\n",
    "\n",
    "In order to make this a required field, we would pass the DataRequired and Length methods into the validators argument."
   ]
  },
  {
   "cell_type": "code",
   "execution_count": null,
   "metadata": {},
   "outputs": [],
   "source": [
    "from flask_wtf import FlaskForm\n",
    "from wtforms import StringField\n",
    "from wtforms.validators import DataRequired, Length\n",
    "\n",
    "class RegistrationForm(FlaskForm):\n",
    "    username = StringField('Username', validators=[DataRequired(), Length(min=2, max=20)])"
   ]
  },
  {
   "cell_type": "code",
   "execution_count": null,
   "metadata": {},
   "outputs": [],
   "source": []
  }
 ],
 "metadata": {
  "language_info": {
   "name": "python"
  },
  "orig_nbformat": 4
 },
 "nbformat": 4,
 "nbformat_minor": 2
}
