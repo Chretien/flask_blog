{
 "cells": [
  {
   "cell_type": "markdown",
   "metadata": {},
   "source": [
    "# Flask Forms\n",
    "\n",
    "Flask has extensions that allow us to build forms much easier than having to code them from scratch using regex, etc.\n",
    "\n",
    "The most popular extension to create forms using Flask is WTForms"
   ]
  },
  {
   "cell_type": "markdown",
   "metadata": {},
   "source": [
    "First, we'd want to install the WTForms Module.\n",
    "\n",
    "`pip install flask_wtf`\n",
    "\n",
    "After this is completed, we can use the module within our project. Create a new file named forms.py\n",
    "\n",
    "The import goes as:\n",
    "\n",
    "`from flask_wtf import FlaskForm`\n",
    "\n",
    "## Creating a registration form requires us to create a class called `class RegistrationForm(FlaskForm)`\n",
    "\n",
    "Forms require certain fields, right? With Flask, you must import these capabilities. To create a username field within our RegistrationForm class, we must import that functionality from wtforms.\n",
    "\n",
    "`from wtforms import StringField`\n",
    "\n",
    "Now that StringField is imported, we utilize it to initialize it as a method. Below, we will begin coding the form. The first argument will be the name of the field, which in this case is 'Username'. The second method will be a validator (which is initialized as a list of arguments) - for example, a method that makes the field a required field, and another for minimum/maximum length. These methods will need to be imported as well through `from wtforms.validators import DataRequired, Length`\n",
    "\n",
    "In order to make this a required field, we would pass the DataRequired and Length methods into the validators argument."
   ]
  },
  {
   "cell_type": "code",
   "execution_count": 1,
   "metadata": {},
   "outputs": [],
   "source": [
    "from flask_wtf import FlaskForm\n",
    "from wtforms import StringField\n",
    "from wtforms.validators import DataRequired, Length\n",
    "\n",
    "class RegistrationForm(FlaskForm):\n",
    "    username = StringField('Username', validators=[DataRequired(), Length(min=2, max=20)])"
   ]
  },
  {
   "cell_type": "markdown",
   "metadata": {},
   "source": [
    "The above code is essentially saying \"Build me a form that includes a username section called 'Username' where the field requires data and the length must be between 2 to 20 characters. The `from flask_wtf import FlaskForm` is what allows us to render the actual form functionality, `from wtforms import StringField` is enabling the field as a StringField, and `from wtforms.validators import DataRequired, Length` is allowing us to set the conditions of the form entry. This is all becoming states for our `RegistrationForm(FlaskForm)` class. Neat!"
   ]
  },
  {
   "cell_type": "code",
   "execution_count": null,
   "metadata": {},
   "outputs": [],
   "source": [
    "from flask_wtf import FlaskForm\n",
    "from wtforms import StringField, PasswordField, SubmitField\n",
    "from wtforms.validators import DataRequired, Length, Email, EqualTo\n",
    "\n",
    "class RegistrationForm(FlaskForm):\n",
    "    username = StringField('Username', validators=[DataRequired(), Length(min=2, max=20)])\n",
    "    email = StringField('Email', validators=[DataRequired(), Email()])\n",
    "    password = PasswordField('Password', validators=[DataRequired()])\n",
    "    confirm_password = PasswordField('Confirm Password', validators=[DataRequired(), EqualTo('password')])\n",
    "    submit = SubmitField('Sign Up')"
   ]
  },
  {
   "cell_type": "markdown",
   "metadata": {},
   "source": [
    "## As you can see above, we've added quite a few fields. We can break them down to better understand them.\n",
    "\n",
    "Within our `from wtforms import` call, we've added `PasswordField` and `SubmitField`. This provides functionality that I think we can infer: a field that takes a password, and a field that submits the provided information. The way this is incorporated into our form is by creating propoerties within our `RegistrationForm(FlaskForm)` class.\n",
    "\n",
    "There are also new imports in our `from wtforms.validators import` call. We see `Email` and `EqualTo` which provide us with new field specific validation. In our `confirm_password` property, we see that we have an `EqualTo` validator, and we are having it check equivalence to the `password` propoerty. This is a nice way of confirming the password.\n",
    "\n",
    "The `Email` validator is probably pretty self explanatory - it sets the StringField named 'Email' to include an email format validation (i.e. me@mail.com)\n",
    "\n",
    "## Next, let's build a new class for Logging In instead of registering. We will essentially copy the `RegistrationForm` class and edit some of the properties."
   ]
  },
  {
   "cell_type": "code",
   "execution_count": 2,
   "metadata": {},
   "outputs": [],
   "source": [
    "from flask_wtf import FlaskForm\n",
    "from wtforms import StringField, PasswordField, SubmitField, BooleanField\n",
    "from wtforms.validators import DataRequired, Length, Email, EqualTo\n",
    "\n",
    "class LoginForm(FlaskForm):\n",
    "    email = StringField('Email', validators=[DataRequired(), Email()])\n",
    "    password = PasswordField('Password', validators=[DataRequired()])\n",
    "    remember = BooleanField('Remember Me')\n",
    "    submit = SubmitField('Login')"
   ]
  },
  {
   "cell_type": "markdown",
   "metadata": {},
   "source": [
    "## So, what's new here?\n",
    "\n",
    "Well, we can see that we imported another module called `BooleanField`. We are using this method in our 'remember' class that will toggle a cookie that saves login information. We will need to set a secret key for our app. It will protect against modifying cookies, forgery attacks, etc.\n",
    "\n",
    "Within the application file, we will submit the following code:\n",
    "`app.config['Secret Key'] = \"\"`\n",
    "\n",
    "In order to generate the random key, we will use the following code within the Python Interpreter:\n",
    "`import secrets`\n",
    "`secrets.token_hex(16)`\n",
    "\n",
    "This will generate a random string that we will pass into the `app.config['Secret Key] = \"16Random\"`\n",
    "\n",
    "We will want to make this an environment variable at some point.\n",
    "\n",
    "## In order to use this new registration.py file, we will need to import it into our main Flask app file, which in our case is flaskblog.py.\n",
    "\n",
    "`from forms import RegistrationForm, LoginForm`\n",
    "\n",
    "Notice that we are importing the Classes we created! Let's create the route in our app."
   ]
  },
  {
   "cell_type": "code",
   "execution_count": null,
   "metadata": {},
   "outputs": [],
   "source": [
    "@app.route(\"/register\")\n",
    "def register():\n",
    "form = RegistrationForm()\n",
    "return render_template('register.html', title='Register', form=form)"
   ]
  },
  {
   "cell_type": "code",
   "execution_count": null,
   "metadata": {},
   "outputs": [],
   "source": [
    "@app.route(\"/login\")\n",
    "def login():\n",
    "form = LoginForm()\n",
    "return render_template('login.html', title='Login', form=form)"
   ]
  },
  {
   "cell_type": "markdown",
   "metadata": {},
   "source": []
  }
 ],
 "metadata": {
  "interpreter": {
   "hash": "b0fa6594d8f4cbf19f97940f81e996739fb7646882a419484c72d19e05852a7e"
  },
  "kernelspec": {
   "display_name": "Python 3.9.10 64-bit",
   "language": "python",
   "name": "python3"
  },
  "language_info": {
   "codemirror_mode": {
    "name": "ipython",
    "version": 3
   },
   "file_extension": ".py",
   "mimetype": "text/x-python",
   "name": "python",
   "nbconvert_exporter": "python",
   "pygments_lexer": "ipython3",
   "version": "3.9.7"
  },
  "orig_nbformat": 4
 },
 "nbformat": 4,
 "nbformat_minor": 2
}
