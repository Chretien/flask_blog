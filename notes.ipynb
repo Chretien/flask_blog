{
 "cells": [
  {
   "cell_type": "markdown",
   "metadata": {},
   "source": [
    "# Flask Forms\n",
    "\n",
    "Flask has extensions that allow us to build forms much easier than having to code them from scratch using regex, etc.\n",
    "\n",
    "The most popular extension to create forms using Flask is WTForms"
   ]
  },
  {
   "cell_type": "markdown",
   "metadata": {},
   "source": [
    "First, we'd want to install the WTForms Module.\n",
    "\n",
    "`pip install flask_wtf`\n",
    "\n",
    "After this is completed, we can use the module within our project. Create a new file named forms.py\n",
    "\n",
    "The import goes as:\n",
    "\n",
    "`from flask_wtf import FlaskForm`\n",
    "\n",
    "## Creating a registration form requires us to create a class called `class RegistrationForm(FlaskForm)`\n",
    "\n",
    "Forms require certain fields, right? With Flask, you must import these capabilities. To create a username field within our RegistrationForm class, we must import that functionality from wtforms.\n",
    "\n",
    "`from wtforms import StringField`\n",
    "\n",
    "Now that StringField is imported, we utilize it to initialize it as a method. Below, we will begin coding the form. The first argument will be the name of the field, which in this case is 'Username'. The second method will be a validator (which is initialized as a list of arguments) - for example, a method that makes the field a required field, and another for minimum/maximum length. These methods will need to be imported as well through `from wtforms.validators import DataRequired, Length`\n",
    "\n",
    "In order to make this a required field, we would pass the DataRequired and Length methods into the validators argument."
   ]
  },
  {
   "cell_type": "code",
   "execution_count": 1,
   "metadata": {},
   "outputs": [],
   "source": [
    "from flask_wtf import FlaskForm\n",
    "from wtforms import StringField\n",
    "from wtforms.validators import DataRequired, Length\n",
    "\n",
    "class RegistrationForm(FlaskForm):\n",
    "    username = StringField('Username', validators=[DataRequired(), Length(min=2, max=20)])"
   ]
  },
  {
   "cell_type": "markdown",
   "metadata": {},
   "source": [
    "The above code is essentially saying \"Build me a form that includes a username section called 'Username' where the field requires data and the length must be between 2 to 20 characters. The `from flask_wtf import FlaskForm` is what allows us to render the actual form functionality, `from wtforms import StringField` is enabling the field as a StringField, and `from wtforms.validators import DataRequired, Length` is allowing us to set the conditions of the form entry. This is all becoming states for our `RegistrationForm(FlaskForm)` class. Neat!"
   ]
  },
  {
   "cell_type": "markdown",
   "metadata": {},
   "source": []
  }
 ],
 "metadata": {
  "interpreter": {
   "hash": "b0fa6594d8f4cbf19f97940f81e996739fb7646882a419484c72d19e05852a7e"
  },
  "kernelspec": {
   "display_name": "Python 3.9.10 64-bit",
   "language": "python",
   "name": "python3"
  },
  "language_info": {
   "codemirror_mode": {
    "name": "ipython",
    "version": 3
   },
   "file_extension": ".py",
   "mimetype": "text/x-python",
   "name": "python",
   "nbconvert_exporter": "python",
   "pygments_lexer": "ipython3",
   "version": "3.9.7"
  },
  "orig_nbformat": 4
 },
 "nbformat": 4,
 "nbformat_minor": 2
}
